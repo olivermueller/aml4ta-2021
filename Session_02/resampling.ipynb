{
  "nbformat": 4,
  "nbformat_minor": 0,
  "metadata": {
    "colab": {
      "name": "resampling.ipynb",
      "provenance": [],
      "collapsed_sections": [],
      "authorship_tag": "ABX9TyNqNt8GIgBdPSEipTNSIEY5",
      "include_colab_link": true
    },
    "kernelspec": {
      "name": "python3",
      "display_name": "Python 3"
    },
    "language_info": {
      "name": "python"
    }
  },
  "cells": [
    {
      "cell_type": "markdown",
      "metadata": {
        "id": "view-in-github",
        "colab_type": "text"
      },
      "source": [
        "<a href=\"https://colab.research.google.com/github/olivermueller/aml4ta-2021/blob/main/Session_02/resampling.ipynb\" target=\"_parent\"><img src=\"https://colab.research.google.com/assets/colab-badge.svg\" alt=\"Open In Colab\"/></a>"
      ]
    },
    {
      "cell_type": "markdown",
      "metadata": {
        "id": "Y2i5xnr3fmVx"
      },
      "source": [
        "# Gist of Naive Random Over-Sampling with Imbalanced-Learn\n",
        "See the [docs](https://imbalanced-learn.org/stable/index.html) for more information"
      ]
    },
    {
      "cell_type": "code",
      "metadata": {
        "id": "3hAsqNv7eW-_"
      },
      "source": [
        "# Load packages (they are all installed on Colab)\n",
        "from sklearn.datasets import make_classification\n",
        "from collections import Counter\n",
        "from imblearn.over_sampling import RandomOverSampler"
      ],
      "execution_count": null,
      "outputs": []
    },
    {
      "cell_type": "code",
      "metadata": {
        "id": "6afONHAQeFIW"
      },
      "source": [
        "# Generate simulated imbalanced data with two features and three classes\n",
        "X, y = make_classification(n_samples=5000, n_features=2, n_informative=2,\n",
        "                           n_redundant=0, n_repeated=0, n_classes=3,\n",
        "                           n_clusters_per_class=1,\n",
        "                           weights=[0.01, 0.05, 0.94],\n",
        "                           class_sep=0.8, random_state=0)"
      ],
      "execution_count": null,
      "outputs": []
    },
    {
      "cell_type": "code",
      "metadata": {
        "colab": {
          "base_uri": "https://localhost:8080/"
        },
        "id": "tNNi1kWkeWHX",
        "outputId": "790fbe7a-0e4d-40e3-d304-b34f2542267a"
      },
      "source": [
        "# Show original class distribution\n",
        "print(sorted(Counter(y).items()))"
      ],
      "execution_count": null,
      "outputs": [
        {
          "output_type": "stream",
          "name": "stdout",
          "text": [
            "[(0, 64), (1, 262), (2, 4674)]\n"
          ]
        }
      ]
    },
    {
      "cell_type": "code",
      "metadata": {
        "colab": {
          "base_uri": "https://localhost:8080/"
        },
        "id": "OMgJhmsOeGWn",
        "outputId": "9a296704-936e-4f7b-b2bb-40665a9b2f07"
      },
      "source": [
        "# Perform naive random over-sampling\n",
        "ros = RandomOverSampler(random_state=0)\n",
        "X_resampled, y_resampled = ros.fit_resample(X, y)"
      ],
      "execution_count": null,
      "outputs": [
        {
          "output_type": "stream",
          "name": "stderr",
          "text": [
            "/usr/local/lib/python3.7/dist-packages/sklearn/utils/deprecation.py:87: FutureWarning: Function safe_indexing is deprecated; safe_indexing is deprecated in version 0.22 and will be removed in version 0.24.\n",
            "  warnings.warn(msg, category=FutureWarning)\n"
          ]
        }
      ]
    },
    {
      "cell_type": "code",
      "metadata": {
        "colab": {
          "base_uri": "https://localhost:8080/"
        },
        "id": "e0SsSAIaeHOo",
        "outputId": "80789ef9-1764-4a01-bc4d-88a1b8fbff53"
      },
      "source": [
        "# Show class distribution of resampled data\n",
        "print(sorted(Counter(y_resampled).items()))"
      ],
      "execution_count": null,
      "outputs": [
        {
          "output_type": "stream",
          "name": "stdout",
          "text": [
            "[(0, 4674), (1, 4674), (2, 4674)]\n"
          ]
        }
      ]
    }
  ]
}