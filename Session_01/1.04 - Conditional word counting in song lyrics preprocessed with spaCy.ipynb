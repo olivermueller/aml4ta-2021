{
 "cells": [
  {
   "cell_type": "markdown",
   "metadata": {},
   "source": [
    "# Seminar Applied Text Mining\n",
    "## Session 1: Processing and exploring raw texts\n",
    "## Notebook 4: Conditional word counting in song lyrics, preprocessed with spaCy"
   ]
  },
  {
   "cell_type": "markdown",
   "metadata": {},
   "source": [
    "### Importing packages\n",
    "\n",
    "As always, we first need to load a number of required Python packages:\n",
    "- `pandas` provides high-performance, easy-to-use data structures and data analysis tools.\n",
    "- `itertools` provides functions for creating iterators for efficient looping through data structures.\n",
    "- `json` allows to read and write JSON files.\n",
    "- `matplotlib` is a plotting library which produces publication quality figures.\n",
    "- `spacy` offers industrial-strength natural language processing"
   ]
  },
  {
   "cell_type": "code",
   "execution_count": 1,
   "metadata": {
    "collapsed": true
   },
   "outputs": [],
   "source": [
    "import pandas as pd\n",
    "import numpy as np\n",
    "import itertools\n",
    "import nltk\n",
    "from nltk.corpus import stopwords\n",
    "from nltk.stem import PorterStemmer\n",
    "from nltk.stem import WordNetLemmatizer\n",
    "import json\n",
    "import matplotlib.pyplot as plt\n",
    "import spacy"
   ]
  },
  {
   "cell_type": "markdown",
   "metadata": {},
   "source": [
    "### Load documents\n",
    "We load the lyrics of all songs which made it to the Billboard charts between 1964 and 2015. The data is in JSON Lines format (http://jsonlines.org/), so we must iterate over each line of the file and append it to a list called `corpus`."
   ]
  },
  {
   "cell_type": "code",
   "execution_count": 2,
   "metadata": {
    "collapsed": true
   },
   "outputs": [],
   "source": [
    "file_path = 'billboard_lyrics_1964-2015.json'\n",
    "corpus = []\n",
    "with open(file_path) as f:\n",
    "    for line in f:\n",
    "        corpus.append(json.loads(line))"
   ]
  },
  {
   "cell_type": "markdown",
   "metadata": {},
   "source": [
    "Show the first song of our dataset."
   ]
  },
  {
   "cell_type": "code",
   "execution_count": 3,
   "metadata": {},
   "outputs": [
    {
     "data": {
      "text/plain": [
       "{u'Artist': u'sam the sham and the pharaohs',\n",
       " u'Lyrics': u'sam the sham miscellaneous wooly bully wooly bully sam the sham  the pharaohs  domingo samudio uno dos one two tres quatro matty told hatty about a thing she saw had two big horns and a wooly jaw wooly bully wooly bully wooly bully wooly bully wooly bully hatty told matty lets dont take no chance lets not belseven come and learn to dance wooly bully wooly bully wooly bully wooly bully wooly bully matty told hatty thats the thing to do get you someone really to pull the wool with you wooly bully wooly bully wooly bully wooly bully wooly bully lseven  the letter l and the number 7 when typed they form a rough square l7 so the lyrics mean lets not be square',\n",
       " u'Rank': u'1',\n",
       " u'Song': u'wooly bully',\n",
       " u'Source': u'3',\n",
       " u'Year': u'1965'}"
      ]
     },
     "execution_count": 3,
     "metadata": {},
     "output_type": "execute_result"
    }
   ],
   "source": [
    "corpus[0]"
   ]
  },
  {
   "cell_type": "markdown",
   "metadata": {},
   "source": [
    "Access the lyrics of the first song."
   ]
  },
  {
   "cell_type": "code",
   "execution_count": 4,
   "metadata": {},
   "outputs": [
    {
     "data": {
      "text/plain": [
       "u'sam the sham miscellaneous wooly bully wooly bully sam the sham  the pharaohs  domingo samudio uno dos one two tres quatro matty told hatty about a thing she saw had two big horns and a wooly jaw wooly bully wooly bully wooly bully wooly bully wooly bully hatty told matty lets dont take no chance lets not belseven come and learn to dance wooly bully wooly bully wooly bully wooly bully wooly bully matty told hatty thats the thing to do get you someone really to pull the wool with you wooly bully wooly bully wooly bully wooly bully wooly bully lseven  the letter l and the number 7 when typed they form a rough square l7 so the lyrics mean lets not be square'"
      ]
     },
     "execution_count": 4,
     "metadata": {},
     "output_type": "execute_result"
    }
   ],
   "source": [
    "corpus[0][u\"Lyrics\"]"
   ]
  },
  {
   "cell_type": "markdown",
   "metadata": {},
   "source": [
    "### Preprocess songs\n",
    "Fasten your seatbelts. With SpaCy's `nlp` function we can define a pipeline of langauge preprocessing steps in execute all of them in one run. "
   ]
  },
  {
   "cell_type": "code",
   "execution_count": null,
   "metadata": {},
   "outputs": [],
   "source": [
    "nlp = spacy.load('en_core_web_sm', disable=['ner', 'parser'])\n",
    "\n",
    "docs_prep = corpus\n",
    "for i, entry in enumerate(docs_prep):\n",
    "    doc = nlp(entry[u\"Lyrics\"])\n",
    "    tokens_to_keep = []\n",
    "    for token in doc:\n",
    "        if token.is_alpha and not token.is_stop: # see with what other tags spaCy has annotated the tokens: https://spacy.io/api/token#attributes1\n",
    "            tokens_to_keep.append(token.lemma_)\n",
    "    entry[u\"Lyrics_prep\"] = tokens_to_keep"
   ]
  },
  {
   "cell_type": "code",
   "execution_count": null,
   "metadata": {},
   "outputs": [],
   "source": [
    "docs_prep[99]"
   ]
  },
  {
   "cell_type": "markdown",
   "metadata": {},
   "source": [
    "### Count words by years\n",
    "Calculate the frequency distributions for all years."
   ]
  },
  {
   "cell_type": "code",
   "execution_count": 8,
   "metadata": {
    "collapsed": true
   },
   "outputs": [],
   "source": [
    "cfreq = nltk.ConditionalFreqDist()\n",
    "\n",
    "for doc in docs_prep:\n",
    "    for token in doc[\"Lyrics_prep\"]:\n",
    "        condition = doc[\"Year\"]\n",
    "        cfreq[condition][token] += 1"
   ]
  },
  {
   "cell_type": "markdown",
   "metadata": {},
   "source": [
    "Show the distribution for the year 2000."
   ]
  },
  {
   "cell_type": "code",
   "execution_count": 9,
   "metadata": {},
   "outputs": [
    {
     "data": {
      "text/plain": [
       "FreqDist({u'not': 726, u'be': 446, u'love': 375, u'like': 352, u'know': 336, u'baby': 276, u'go': 211, u's': 204, u'want': 203, u'get': 199, ...})"
      ]
     },
     "execution_count": 9,
     "metadata": {},
     "output_type": "execute_result"
    }
   ],
   "source": [
    "cfreq[\"2000\"]"
   ]
  },
  {
   "cell_type": "markdown",
   "metadata": {},
   "source": [
    "Get the distribution of `love` for all years."
   ]
  },
  {
   "cell_type": "code",
   "execution_count": 10,
   "metadata": {
    "collapsed": true
   },
   "outputs": [],
   "source": [
    "word = \"love\"\n",
    "years = sorted([int(item) for item in cfreq.conditions()])\n",
    "word_timeseries = []\n",
    "for year in years:\n",
    "    word_timeseries.append(cfreq[str(year)][word])"
   ]
  },
  {
   "cell_type": "code",
   "execution_count": 11,
   "metadata": {},
   "outputs": [
    {
     "data": {
      "text/plain": [
       "[307,\n",
       " 212,\n",
       " 380,\n",
       " 223,\n",
       " 279,\n",
       " 293,\n",
       " 230,\n",
       " 276,\n",
       " 267,\n",
       " 336,\n",
       " 303,\n",
       " 494,\n",
       " 367,\n",
       " 308,\n",
       " 520,\n",
       " 320,\n",
       " 290,\n",
       " 310,\n",
       " 285,\n",
       " 283,\n",
       " 335,\n",
       " 394,\n",
       " 387,\n",
       " 474,\n",
       " 560,\n",
       " 471,\n",
       " 385,\n",
       " 405,\n",
       " 438,\n",
       " 396,\n",
       " 462,\n",
       " 263,\n",
       " 328,\n",
       " 334,\n",
       " 351,\n",
       " 375,\n",
       " 302,\n",
       " 265,\n",
       " 425,\n",
       " 281,\n",
       " 260,\n",
       " 207,\n",
       " 255,\n",
       " 337,\n",
       " 347,\n",
       " 400,\n",
       " 253,\n",
       " 302,\n",
       " 354,\n",
       " 280,\n",
       " 330]"
      ]
     },
     "execution_count": 11,
     "metadata": {},
     "output_type": "execute_result"
    }
   ],
   "source": [
    "word_timeseries"
   ]
  },
  {
   "cell_type": "markdown",
   "metadata": {},
   "source": [
    "Let's plot the time series. It looks like the usage of `love` peaks in 1990. But the counts are absolute numbers and we don't know how many words have been sung in a given year (Do hip hop songs contain more words than 70s rock?)."
   ]
  },
  {
   "cell_type": "code",
   "execution_count": 12,
   "metadata": {},
   "outputs": [
    {
     "data": {
      "image/png": "[encoded data removed]",
      "text/plain": [
       "<Figure size 432x288 with 1 Axes>"
      ]
     },
     "metadata": {
      "needs_background": "light"
     },
     "output_type": "display_data"
    }
   ],
   "source": [
    "plt.plot(years, word_timeseries)\n",
    "plt.show()"
   ]
  },
  {
   "cell_type": "markdown",
   "metadata": {},
   "source": [
    "Hence, it's a good idea to take the total volume of words per year into consideration. "
   ]
  },
  {
   "cell_type": "code",
   "execution_count": 13,
   "metadata": {},
   "outputs": [
    {
     "data": {
      "image/png": "[encoded data removed]",
      "text/plain": [
       "<Figure size 432x288 with 1 Axes>"
      ]
     },
     "metadata": {
      "needs_background": "light"
     },
     "output_type": "display_data"
    }
   ],
   "source": [
    "volume = []\n",
    "for year in years:\n",
    "    volume.append(cfreq[str(year)].N())\n",
    "plt.plot(years, volume)\n",
    "plt.show()"
   ]
  },
  {
   "cell_type": "markdown",
   "metadata": {},
   "source": [
    "Strangely, the number of words per year increases over time (is this a data quality problem?). Therefore we should divide the frequency of `love` by the total number of words for each year."
   ]
  },
  {
   "cell_type": "code",
   "execution_count": 14,
   "metadata": {},
   "outputs": [
    {
     "data": {
      "text/plain": [
       "array([0.03685032, 0.02568763, 0.04569505, 0.02463816, 0.03214286,\n",
       "       0.02835301, 0.02443689, 0.03114421, 0.02654603, 0.03558945,\n",
       "       0.03147725, 0.0423598 , 0.03751022, 0.02954436, 0.04907975,\n",
       "       0.03120429, 0.02836463, 0.02954914, 0.02243741, 0.02278399,\n",
       "       0.02772949, 0.0350971 , 0.03142764, 0.03773885, 0.03849326,\n",
       "       0.03076622, 0.02851007, 0.02917867, 0.02535016, 0.02701044,\n",
       "       0.02899824, 0.01785957, 0.02024691, 0.01788679, 0.02181208,\n",
       "       0.02085651, 0.01588387, 0.01247646, 0.0185468 , 0.01273337,\n",
       "       0.0115535 , 0.00907895, 0.0117772 , 0.01669474, 0.01672692,\n",
       "       0.01879346, 0.01193453, 0.01730064, 0.01987201, 0.01419374,\n",
       "       0.01732738])"
      ]
     },
     "execution_count": 14,
     "metadata": {},
     "output_type": "execute_result"
    }
   ],
   "source": [
    "word_timeseries_normalized = np.array(word_timeseries, dtype=np.float) / np.array(volume, dtype=np.float)\n",
    "word_timeseries_normalized"
   ]
  },
  {
   "cell_type": "code",
   "execution_count": 15,
   "metadata": {},
   "outputs": [
    {
     "data": {
      "image/png": "[encoded data removed]",
      "text/plain": [
       "<Figure size 432x288 with 1 Axes>"
      ]
     },
     "metadata": {
      "needs_background": "light"
     },
     "output_type": "display_data"
    }
   ],
   "source": [
    "plt.plot(years, word_timeseries_normalized)\n",
    "plt.show()"
   ]
  },
  {
   "cell_type": "markdown",
   "metadata": {},
   "source": [
    "As we can see above, `love` peaked in the late 1970s and is on the decline since then. Sad."
   ]
  }
 ],
 "metadata": {
  "kernelspec": {
   "display_name": "Python 2",
   "language": "python",
   "name": "python2"
  },
  "language_info": {
   "codemirror_mode": {
    "name": "ipython",
    "version": 2
   },
   "file_extension": ".py",
   "mimetype": "text/x-python",
   "name": "python",
   "nbconvert_exporter": "python",
   "pygments_lexer": "ipython2",
   "version": "2.7.15"
  }
 },
 "nbformat": 4,
 "nbformat_minor": 2
}
