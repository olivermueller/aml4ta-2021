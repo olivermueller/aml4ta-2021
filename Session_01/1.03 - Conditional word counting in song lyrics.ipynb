{
 "cells": [
  {
   "cell_type": "markdown",
   "metadata": {},
   "source": [
    "# Seminar Applied Text Mining\n",
    "## Session 1: Processing and exploring raw texts\n",
    "## Notebook 3: Conditional word counting in song lyrics"
   ]
  },
  {
   "cell_type": "markdown",
   "metadata": {},
   "source": [
    "### Importing packages\n",
    "\n",
    "As always, we first need to load a number of required Python packages:\n",
    "- `pandas` provides high-performance, easy-to-use data structures and data analysis tools.\n",
    "- `NLTK` is a leading platform for building Python programs to work with human language data.\n",
    "- `itertools` provides functions for creating iterators for efficient looping through data structures.\n",
    "- `json` allows to read and write JSON files.\n",
    "- `matplotlib` is a plotting library which produces publication quality figures."
   ]
  },
  {
   "cell_type": "code",
   "execution_count": 1,
   "metadata": {
    "collapsed": true
   },
   "outputs": [],
   "source": [
    "import pandas as pd\n",
    "import numpy as np\n",
    "import itertools\n",
    "import nltk\n",
    "from nltk.corpus import stopwords\n",
    "from nltk.stem import PorterStemmer\n",
    "from nltk.stem import WordNetLemmatizer\n",
    "import json\n",
    "import matplotlib.pyplot as plt"
   ]
  },
  {
   "cell_type": "markdown",
   "metadata": {},
   "source": [
    "### Load documents\n",
    "We load the lyrics of all songs which made it to the Billboard charts between 1964 and 2015. The data is in JSON Lines format (http://jsonlines.org/), so we must iterate over each line of the file and append it to a list called `corpus`."
   ]
  },
  {
   "cell_type": "code",
   "execution_count": 2,
   "metadata": {
    "collapsed": true
   },
   "outputs": [],
   "source": [
    "file_path = 'billboard_lyrics_1964-2015.json'\n",
    "corpus = []\n",
    "with open(file_path) as f:\n",
    "    for line in f:\n",
    "        corpus.append(json.loads(line))"
   ]
  },
  {
   "cell_type": "markdown",
   "metadata": {},
   "source": [
    "Show the first song of our dataset."
   ]
  },
  {
   "cell_type": "code",
   "execution_count": 6,
   "metadata": {},
   "outputs": [
    {
     "data": {
      "text/plain": [
       "{u'Artist': u'mark ronson featuring bruno mars',\n",
       " u'Lyrics': u' this hit that ice cold michelle pfeiffer that white gold this one for them hood girls them good girls straight masterpieces stylin whilen livin it up in the city got chucks on with saint laurent got kiss myself im so prettyim too hot hot damn called a police and a fireman im too hot hot damn make a dragon wanna retire man im too hot hot damn say my name you know who i am im too hot hot damn am i bad bout that money break it downgirls hit your hallelujah whoo girls hit your hallelujah whoo girls hit your hallelujah whoo cause uptown funk gon give it to you cause uptown funk gon give it to you cause uptown funk gon give it to you saturday night and we in the spot dont believe me just watch come ondont believe me just watch uhdont believe me just watch dont believe me just watch dont believe me just watch dont believe me just watch hey hey hey oh    meaning  byamandah   editor    70s girl group the sequence accused bruno mars and producer mark ronson of ripping their sound off in uptown funk their song in question is funk you    see all   stop wait a minute fill my cup put some liquor in it take a sip sign a check julio get the stretch ride to harlem hollywood jackson mississippi if we show up we gon show out smoother than a fresh jar of skippyim too hot hot damn called a police and a fireman im too hot hot damn make a dragon wanna retire man im too hot hot damn bitch say my name you know who i am im too hot hot damn am i bad bout that money break it downgirls hit your hallelujah whoo girls hit your hallelujah whoo girls hit your hallelujah whoo cause uptown funk gon give it to you cause uptown funk gon give it to you cause uptown funk gon give it to you saturday night and we in the spot dont believe me just watch come ondont believe me just watch uhdont believe me just watch uh dont believe me just watch uh dont believe me just watch dont believe me just watch hey hey hey ohbefore we leave lemmi tell yall a lil something uptown funk you up uptown funk you up uptown funk you up uptown funk you up uh i said uptown funk you up uptown funk you up uptown funk you up uptown funk you upcome on dance jump on it if you sexy then flaunt it if you freaky then own it dont brag about it come show mecome on dance jump on it if you sexy then flaunt it well its saturday night and we in the spot dont believe me just watch come ondont believe me just watch uhdont believe me just watch uh dont believe me just watch uh dont believe me just watch dont believe me just watch hey hey hey ohuptown funk you up uptown funk you up say what uptown funk you up uptown funk you up uptown funk you up uptown funk you up say what uptown funk you up uptown funk you up uptown funk you up uptown funk you up say what uptown funk you up uptown funk you up uptown funk you up uptown funk you up say what uptown funk you up ',\n",
       " u'Rank': u'1',\n",
       " u'Song': u'uptown funk',\n",
       " u'Source': u'1',\n",
       " u'Year': u'2015'}"
      ]
     },
     "execution_count": 6,
     "metadata": {},
     "output_type": "execute_result"
    }
   ],
   "source": [
    "corpus[5000]"
   ]
  },
  {
   "cell_type": "markdown",
   "metadata": {},
   "source": [
    "### Preprocess songs\n",
    "Same procedure as every time: tokenize ..."
   ]
  },
  {
   "cell_type": "code",
   "execution_count": 7,
   "metadata": {},
   "outputs": [],
   "source": [
    "docs_tokenized = corpus[:]\n",
    "for i, entry in enumerate(docs_tokenized):\n",
    "    entry[\"Lyrics\"] = nltk.word_tokenize(entry[\"Lyrics\"])"
   ]
  },
  {
   "cell_type": "code",
   "execution_count": 8,
   "metadata": {},
   "outputs": [
    {
     "data": {
      "text/plain": [
       "{u'Artist': u'sam the sham and the pharaohs',\n",
       " u'Lyrics': [u'sam',\n",
       "  u'the',\n",
       "  u'sham',\n",
       "  u'miscellaneous',\n",
       "  u'wooly',\n",
       "  u'bully',\n",
       "  u'wooly',\n",
       "  u'bully',\n",
       "  u'sam',\n",
       "  u'the',\n",
       "  u'sham',\n",
       "  u'the',\n",
       "  u'pharaohs',\n",
       "  u'domingo',\n",
       "  u'samudio',\n",
       "  u'uno',\n",
       "  u'dos',\n",
       "  u'one',\n",
       "  u'two',\n",
       "  u'tres',\n",
       "  u'quatro',\n",
       "  u'matty',\n",
       "  u'told',\n",
       "  u'hatty',\n",
       "  u'about',\n",
       "  u'a',\n",
       "  u'thing',\n",
       "  u'she',\n",
       "  u'saw',\n",
       "  u'had',\n",
       "  u'two',\n",
       "  u'big',\n",
       "  u'horns',\n",
       "  u'and',\n",
       "  u'a',\n",
       "  u'wooly',\n",
       "  u'jaw',\n",
       "  u'wooly',\n",
       "  u'bully',\n",
       "  u'wooly',\n",
       "  u'bully',\n",
       "  u'wooly',\n",
       "  u'bully',\n",
       "  u'wooly',\n",
       "  u'bully',\n",
       "  u'wooly',\n",
       "  u'bully',\n",
       "  u'hatty',\n",
       "  u'told',\n",
       "  u'matty',\n",
       "  u'lets',\n",
       "  u'dont',\n",
       "  u'take',\n",
       "  u'no',\n",
       "  u'chance',\n",
       "  u'lets',\n",
       "  u'not',\n",
       "  u'belseven',\n",
       "  u'come',\n",
       "  u'and',\n",
       "  u'learn',\n",
       "  u'to',\n",
       "  u'dance',\n",
       "  u'wooly',\n",
       "  u'bully',\n",
       "  u'wooly',\n",
       "  u'bully',\n",
       "  u'wooly',\n",
       "  u'bully',\n",
       "  u'wooly',\n",
       "  u'bully',\n",
       "  u'wooly',\n",
       "  u'bully',\n",
       "  u'matty',\n",
       "  u'told',\n",
       "  u'hatty',\n",
       "  u'thats',\n",
       "  u'the',\n",
       "  u'thing',\n",
       "  u'to',\n",
       "  u'do',\n",
       "  u'get',\n",
       "  u'you',\n",
       "  u'someone',\n",
       "  u'really',\n",
       "  u'to',\n",
       "  u'pull',\n",
       "  u'the',\n",
       "  u'wool',\n",
       "  u'with',\n",
       "  u'you',\n",
       "  u'wooly',\n",
       "  u'bully',\n",
       "  u'wooly',\n",
       "  u'bully',\n",
       "  u'wooly',\n",
       "  u'bully',\n",
       "  u'wooly',\n",
       "  u'bully',\n",
       "  u'wooly',\n",
       "  u'bully',\n",
       "  u'lseven',\n",
       "  u'the',\n",
       "  u'letter',\n",
       "  u'l',\n",
       "  u'and',\n",
       "  u'the',\n",
       "  u'number',\n",
       "  u'7',\n",
       "  u'when',\n",
       "  u'typed',\n",
       "  u'they',\n",
       "  u'form',\n",
       "  u'a',\n",
       "  u'rough',\n",
       "  u'square',\n",
       "  u'l7',\n",
       "  u'so',\n",
       "  u'the',\n",
       "  u'lyrics',\n",
       "  u'mean',\n",
       "  u'lets',\n",
       "  u'not',\n",
       "  u'be',\n",
       "  u'square'],\n",
       " u'Rank': u'1',\n",
       " u'Song': u'wooly bully',\n",
       " u'Source': u'3',\n",
       " u'Year': u'1965'}"
      ]
     },
     "execution_count": 8,
     "metadata": {},
     "output_type": "execute_result"
    }
   ],
   "source": [
    "docs_tokenized[0]"
   ]
  },
  {
   "cell_type": "markdown",
   "metadata": {},
   "source": [
    "... to lowecase ..."
   ]
  },
  {
   "cell_type": "code",
   "execution_count": 9,
   "metadata": {},
   "outputs": [],
   "source": [
    "docs_tokenized_lower = docs_tokenized[:]\n",
    "for i,entry in enumerate(docs_tokenized_lower):\n",
    "    tokens_lower = []\n",
    "    for token in entry[\"Lyrics\"]:\n",
    "        tokens_lower.append(token.lower())\n",
    "    entry[\"Lyrics\"] = tokens_lower"
   ]
  },
  {
   "cell_type": "code",
   "execution_count": 10,
   "metadata": {},
   "outputs": [
    {
     "data": {
      "text/plain": [
       "{u'Artist': u'sam the sham and the pharaohs',\n",
       " u'Lyrics': [u'sam',\n",
       "  u'the',\n",
       "  u'sham',\n",
       "  u'miscellaneous',\n",
       "  u'wooly',\n",
       "  u'bully',\n",
       "  u'wooly',\n",
       "  u'bully',\n",
       "  u'sam',\n",
       "  u'the',\n",
       "  u'sham',\n",
       "  u'the',\n",
       "  u'pharaohs',\n",
       "  u'domingo',\n",
       "  u'samudio',\n",
       "  u'uno',\n",
       "  u'dos',\n",
       "  u'one',\n",
       "  u'two',\n",
       "  u'tres',\n",
       "  u'quatro',\n",
       "  u'matty',\n",
       "  u'told',\n",
       "  u'hatty',\n",
       "  u'about',\n",
       "  u'a',\n",
       "  u'thing',\n",
       "  u'she',\n",
       "  u'saw',\n",
       "  u'had',\n",
       "  u'two',\n",
       "  u'big',\n",
       "  u'horns',\n",
       "  u'and',\n",
       "  u'a',\n",
       "  u'wooly',\n",
       "  u'jaw',\n",
       "  u'wooly',\n",
       "  u'bully',\n",
       "  u'wooly',\n",
       "  u'bully',\n",
       "  u'wooly',\n",
       "  u'bully',\n",
       "  u'wooly',\n",
       "  u'bully',\n",
       "  u'wooly',\n",
       "  u'bully',\n",
       "  u'hatty',\n",
       "  u'told',\n",
       "  u'matty',\n",
       "  u'lets',\n",
       "  u'dont',\n",
       "  u'take',\n",
       "  u'no',\n",
       "  u'chance',\n",
       "  u'lets',\n",
       "  u'not',\n",
       "  u'belseven',\n",
       "  u'come',\n",
       "  u'and',\n",
       "  u'learn',\n",
       "  u'to',\n",
       "  u'dance',\n",
       "  u'wooly',\n",
       "  u'bully',\n",
       "  u'wooly',\n",
       "  u'bully',\n",
       "  u'wooly',\n",
       "  u'bully',\n",
       "  u'wooly',\n",
       "  u'bully',\n",
       "  u'wooly',\n",
       "  u'bully',\n",
       "  u'matty',\n",
       "  u'told',\n",
       "  u'hatty',\n",
       "  u'thats',\n",
       "  u'the',\n",
       "  u'thing',\n",
       "  u'to',\n",
       "  u'do',\n",
       "  u'get',\n",
       "  u'you',\n",
       "  u'someone',\n",
       "  u'really',\n",
       "  u'to',\n",
       "  u'pull',\n",
       "  u'the',\n",
       "  u'wool',\n",
       "  u'with',\n",
       "  u'you',\n",
       "  u'wooly',\n",
       "  u'bully',\n",
       "  u'wooly',\n",
       "  u'bully',\n",
       "  u'wooly',\n",
       "  u'bully',\n",
       "  u'wooly',\n",
       "  u'bully',\n",
       "  u'wooly',\n",
       "  u'bully',\n",
       "  u'lseven',\n",
       "  u'the',\n",
       "  u'letter',\n",
       "  u'l',\n",
       "  u'and',\n",
       "  u'the',\n",
       "  u'number',\n",
       "  u'7',\n",
       "  u'when',\n",
       "  u'typed',\n",
       "  u'they',\n",
       "  u'form',\n",
       "  u'a',\n",
       "  u'rough',\n",
       "  u'square',\n",
       "  u'l7',\n",
       "  u'so',\n",
       "  u'the',\n",
       "  u'lyrics',\n",
       "  u'mean',\n",
       "  u'lets',\n",
       "  u'not',\n",
       "  u'be',\n",
       "  u'square'],\n",
       " u'Rank': u'1',\n",
       " u'Song': u'wooly bully',\n",
       " u'Source': u'3',\n",
       " u'Year': u'1965'}"
      ]
     },
     "execution_count": 10,
     "metadata": {},
     "output_type": "execute_result"
    }
   ],
   "source": [
    "docs_tokenized_lower[0]"
   ]
  },
  {
   "cell_type": "markdown",
   "metadata": {},
   "source": [
    "... lemmatize ..."
   ]
  },
  {
   "cell_type": "code",
   "execution_count": 11,
   "metadata": {},
   "outputs": [],
   "source": [
    "lemmatizer = WordNetLemmatizer()\n",
    "\n",
    "docs_tokenized_lower_lemmatized = docs_tokenized_lower[:]\n",
    "for i,entry in enumerate(docs_tokenized_lower_lemmatized):\n",
    "    tokens_lemmatized = []\n",
    "    for token in entry[\"Lyrics\"]:\n",
    "        tokens_lemmatized.append(lemmatizer.lemmatize(token))\n",
    "    entry[\"Lyrics\"] = tokens_lemmatized"
   ]
  },
  {
   "cell_type": "code",
   "execution_count": 12,
   "metadata": {},
   "outputs": [
    {
     "data": {
      "text/plain": [
       "{u'Artist': u'sam the sham and the pharaohs',\n",
       " u'Lyrics': [u'sam',\n",
       "  u'the',\n",
       "  u'sham',\n",
       "  u'miscellaneous',\n",
       "  u'wooly',\n",
       "  u'bully',\n",
       "  u'wooly',\n",
       "  u'bully',\n",
       "  u'sam',\n",
       "  u'the',\n",
       "  u'sham',\n",
       "  u'the',\n",
       "  u'pharaoh',\n",
       "  u'domingo',\n",
       "  u'samudio',\n",
       "  u'uno',\n",
       "  u'do',\n",
       "  u'one',\n",
       "  u'two',\n",
       "  u'tres',\n",
       "  u'quatro',\n",
       "  u'matty',\n",
       "  u'told',\n",
       "  u'hatty',\n",
       "  u'about',\n",
       "  u'a',\n",
       "  u'thing',\n",
       "  u'she',\n",
       "  u'saw',\n",
       "  u'had',\n",
       "  u'two',\n",
       "  u'big',\n",
       "  u'horn',\n",
       "  u'and',\n",
       "  u'a',\n",
       "  u'wooly',\n",
       "  u'jaw',\n",
       "  u'wooly',\n",
       "  u'bully',\n",
       "  u'wooly',\n",
       "  u'bully',\n",
       "  u'wooly',\n",
       "  u'bully',\n",
       "  u'wooly',\n",
       "  u'bully',\n",
       "  u'wooly',\n",
       "  u'bully',\n",
       "  u'hatty',\n",
       "  u'told',\n",
       "  u'matty',\n",
       "  u'let',\n",
       "  u'dont',\n",
       "  u'take',\n",
       "  u'no',\n",
       "  u'chance',\n",
       "  u'let',\n",
       "  u'not',\n",
       "  u'belseven',\n",
       "  u'come',\n",
       "  u'and',\n",
       "  u'learn',\n",
       "  u'to',\n",
       "  u'dance',\n",
       "  u'wooly',\n",
       "  u'bully',\n",
       "  u'wooly',\n",
       "  u'bully',\n",
       "  u'wooly',\n",
       "  u'bully',\n",
       "  u'wooly',\n",
       "  u'bully',\n",
       "  u'wooly',\n",
       "  u'bully',\n",
       "  u'matty',\n",
       "  u'told',\n",
       "  u'hatty',\n",
       "  u'thats',\n",
       "  u'the',\n",
       "  u'thing',\n",
       "  u'to',\n",
       "  u'do',\n",
       "  u'get',\n",
       "  u'you',\n",
       "  u'someone',\n",
       "  u'really',\n",
       "  u'to',\n",
       "  u'pull',\n",
       "  u'the',\n",
       "  u'wool',\n",
       "  u'with',\n",
       "  u'you',\n",
       "  u'wooly',\n",
       "  u'bully',\n",
       "  u'wooly',\n",
       "  u'bully',\n",
       "  u'wooly',\n",
       "  u'bully',\n",
       "  u'wooly',\n",
       "  u'bully',\n",
       "  u'wooly',\n",
       "  u'bully',\n",
       "  u'lseven',\n",
       "  u'the',\n",
       "  u'letter',\n",
       "  u'l',\n",
       "  u'and',\n",
       "  u'the',\n",
       "  u'number',\n",
       "  u'7',\n",
       "  u'when',\n",
       "  u'typed',\n",
       "  u'they',\n",
       "  u'form',\n",
       "  u'a',\n",
       "  u'rough',\n",
       "  u'square',\n",
       "  u'l7',\n",
       "  u'so',\n",
       "  u'the',\n",
       "  u'lyric',\n",
       "  u'mean',\n",
       "  u'let',\n",
       "  u'not',\n",
       "  u'be',\n",
       "  u'square'],\n",
       " u'Rank': u'1',\n",
       " u'Song': u'wooly bully',\n",
       " u'Source': u'3',\n",
       " u'Year': u'1965'}"
      ]
     },
     "execution_count": 12,
     "metadata": {},
     "output_type": "execute_result"
    }
   ],
   "source": [
    "docs_tokenized_lower_lemmatized[0]"
   ]
  },
  {
   "cell_type": "markdown",
   "metadata": {},
   "source": [
    "and remove stopwords and non-alphanumeric tokens."
   ]
  },
  {
   "cell_type": "code",
   "execution_count": 13,
   "metadata": {},
   "outputs": [],
   "source": [
    "docs_tokenized_lower_lemmatized_cleaned = docs_tokenized_lower_lemmatized[:]\n",
    "for i,entry in enumerate(docs_tokenized_lower_lemmatized_cleaned):\n",
    "    tokens_cleaned = []\n",
    "    for token in entry[\"Lyrics\"]:\n",
    "        if (token not in stopwords.words('english')) & (token.isalpha()):\n",
    "            tokens_cleaned.append(token)\n",
    "    entry[\"Lyrics\"] = tokens_cleaned"
   ]
  },
  {
   "cell_type": "code",
   "execution_count": 14,
   "metadata": {},
   "outputs": [
    {
     "data": {
      "text/plain": [
       "{u'Artist': u'sam the sham and the pharaohs',\n",
       " u'Lyrics': [u'sam',\n",
       "  u'sham',\n",
       "  u'miscellaneous',\n",
       "  u'wooly',\n",
       "  u'bully',\n",
       "  u'wooly',\n",
       "  u'bully',\n",
       "  u'sam',\n",
       "  u'sham',\n",
       "  u'pharaoh',\n",
       "  u'domingo',\n",
       "  u'samudio',\n",
       "  u'uno',\n",
       "  u'one',\n",
       "  u'two',\n",
       "  u'tres',\n",
       "  u'quatro',\n",
       "  u'matty',\n",
       "  u'told',\n",
       "  u'hatty',\n",
       "  u'thing',\n",
       "  u'saw',\n",
       "  u'two',\n",
       "  u'big',\n",
       "  u'horn',\n",
       "  u'wooly',\n",
       "  u'jaw',\n",
       "  u'wooly',\n",
       "  u'bully',\n",
       "  u'wooly',\n",
       "  u'bully',\n",
       "  u'wooly',\n",
       "  u'bully',\n",
       "  u'wooly',\n",
       "  u'bully',\n",
       "  u'wooly',\n",
       "  u'bully',\n",
       "  u'hatty',\n",
       "  u'told',\n",
       "  u'matty',\n",
       "  u'let',\n",
       "  u'dont',\n",
       "  u'take',\n",
       "  u'chance',\n",
       "  u'let',\n",
       "  u'belseven',\n",
       "  u'come',\n",
       "  u'learn',\n",
       "  u'dance',\n",
       "  u'wooly',\n",
       "  u'bully',\n",
       "  u'wooly',\n",
       "  u'bully',\n",
       "  u'wooly',\n",
       "  u'bully',\n",
       "  u'wooly',\n",
       "  u'bully',\n",
       "  u'wooly',\n",
       "  u'bully',\n",
       "  u'matty',\n",
       "  u'told',\n",
       "  u'hatty',\n",
       "  u'thats',\n",
       "  u'thing',\n",
       "  u'get',\n",
       "  u'someone',\n",
       "  u'really',\n",
       "  u'pull',\n",
       "  u'wool',\n",
       "  u'wooly',\n",
       "  u'bully',\n",
       "  u'wooly',\n",
       "  u'bully',\n",
       "  u'wooly',\n",
       "  u'bully',\n",
       "  u'wooly',\n",
       "  u'bully',\n",
       "  u'wooly',\n",
       "  u'bully',\n",
       "  u'lseven',\n",
       "  u'letter',\n",
       "  u'l',\n",
       "  u'number',\n",
       "  u'typed',\n",
       "  u'form',\n",
       "  u'rough',\n",
       "  u'square',\n",
       "  u'lyric',\n",
       "  u'mean',\n",
       "  u'let',\n",
       "  u'square'],\n",
       " u'Rank': u'1',\n",
       " u'Song': u'wooly bully',\n",
       " u'Source': u'3',\n",
       " u'Year': u'1965'}"
      ]
     },
     "execution_count": 14,
     "metadata": {},
     "output_type": "execute_result"
    }
   ],
   "source": [
    "docs_tokenized_lower_lemmatized_cleaned[0]"
   ]
  },
  {
   "cell_type": "markdown",
   "metadata": {},
   "source": [
    "### Count words by years\n",
    "Calculate the frequency distributions for all years."
   ]
  },
  {
   "cell_type": "code",
   "execution_count": 15,
   "metadata": {
    "collapsed": true
   },
   "outputs": [],
   "source": [
    "cfreq = nltk.ConditionalFreqDist()\n",
    "\n",
    "for doc in docs_tokenized_lower_lemmatized_cleaned:\n",
    "    for token in doc[\"Lyrics\"]:\n",
    "        condition = doc[\"Year\"]\n",
    "        cfreq[condition][token] += 1"
   ]
  },
  {
   "cell_type": "markdown",
   "metadata": {},
   "source": [
    "Show the distribution for the year 2000."
   ]
  },
  {
   "cell_type": "code",
   "execution_count": 16,
   "metadata": {},
   "outputs": [
    {
     "data": {
      "text/plain": [
       "FreqDist({u'like': 352, u'im': 348, u'love': 344, u'na': 334, u'dont': 310, u'know': 308, u'baby': 277, u'youre': 207, u'want': 194, u'girl': 191, ...})"
      ]
     },
     "execution_count": 16,
     "metadata": {},
     "output_type": "execute_result"
    }
   ],
   "source": [
    "cfreq[\"2000\"]"
   ]
  },
  {
   "cell_type": "markdown",
   "metadata": {},
   "source": [
    "Get the distribution of `love` for all years."
   ]
  },
  {
   "cell_type": "code",
   "execution_count": 36,
   "metadata": {
    "collapsed": true
   },
   "outputs": [],
   "source": [
    "word = \"money\"\n",
    "years = sorted([int(item) for item in cfreq.conditions()]) # list comprehension again\n",
    "word_timeseries = []\n",
    "for year in years:\n",
    "    word_timeseries.append(cfreq[str(year)][word])"
   ]
  },
  {
   "cell_type": "code",
   "execution_count": 37,
   "metadata": {},
   "outputs": [
    {
     "data": {
      "text/plain": [
       "[4,\n",
       " 5,\n",
       " 4,\n",
       " 6,\n",
       " 6,\n",
       " 3,\n",
       " 11,\n",
       " 3,\n",
       " 11,\n",
       " 26,\n",
       " 4,\n",
       " 25,\n",
       " 22,\n",
       " 3,\n",
       " 8,\n",
       " 8,\n",
       " 5,\n",
       " 1,\n",
       " 25,\n",
       " 2,\n",
       " 33,\n",
       " 3,\n",
       " 12,\n",
       " 22,\n",
       " 9,\n",
       " 22,\n",
       " 8,\n",
       " 4,\n",
       " 8,\n",
       " 21,\n",
       " 20,\n",
       " 22,\n",
       " 22,\n",
       " 62,\n",
       " 16,\n",
       " 14,\n",
       " 25,\n",
       " 19,\n",
       " 24,\n",
       " 24,\n",
       " 39,\n",
       " 44,\n",
       " 60,\n",
       " 48,\n",
       " 38,\n",
       " 43,\n",
       " 73,\n",
       " 33,\n",
       " 57,\n",
       " 43,\n",
       " 107]"
      ]
     },
     "execution_count": 37,
     "metadata": {},
     "output_type": "execute_result"
    }
   ],
   "source": [
    "word_timeseries"
   ]
  },
  {
   "cell_type": "markdown",
   "metadata": {},
   "source": [
    "Let's plot the time series. It looks like the usage of `love` peaks in 1990. But the counts are absolute numbers and we don't know how many words have been sung in a given year (Do hip hop songs contain more words than 70s rock?)."
   ]
  },
  {
   "cell_type": "code",
   "execution_count": 38,
   "metadata": {},
   "outputs": [
    {
     "data": {
      "image/png": "[encoded data removed]",
      "text/plain": [
       "<Figure size 432x288 with 1 Axes>"
      ]
     },
     "metadata": {
      "needs_background": "light"
     },
     "output_type": "display_data"
    }
   ],
   "source": [
    "plt.plot(years, word_timeseries)\n",
    "plt.show()"
   ]
  },
  {
   "cell_type": "markdown",
   "metadata": {},
   "source": [
    "Hence, it's a good idea to take the total volume of words per year into consideration. "
   ]
  },
  {
   "cell_type": "code",
   "execution_count": 39,
   "metadata": {},
   "outputs": [
    {
     "data": {
      "image/png": "[encoded data removed]",
      "text/plain": [
       "<Figure size 432x288 with 1 Axes>"
      ]
     },
     "metadata": {
      "needs_background": "light"
     },
     "output_type": "display_data"
    }
   ],
   "source": [
    "volume = []\n",
    "for year in years:\n",
    "    volume.append(cfreq[str(year)].N())\n",
    "plt.plot(years, volume)\n",
    "plt.show()"
   ]
  },
  {
   "cell_type": "markdown",
   "metadata": {},
   "source": [
    "Strangely, the number of words per year increases over time (is this a data quality problem?). Therefore we should divide the frequency of `love` by the total number of words for each year."
   ]
  },
  {
   "cell_type": "code",
   "execution_count": 40,
   "metadata": {},
   "outputs": [
    {
     "data": {
      "text/plain": [
       "array([4.15282392e-04, 5.20453836e-04, 4.14937759e-04, 5.78034682e-04,\n",
       "       5.94059406e-04, 2.53036437e-04, 1.02059751e-03, 2.85877644e-04,\n",
       "       9.32203390e-04, 2.35549918e-03, 3.56347439e-04, 1.88750472e-03,\n",
       "       1.94897236e-03, 2.45178163e-04, 6.37247093e-04, 6.61649161e-04,\n",
       "       4.16319734e-04, 8.00256082e-05, 1.65782493e-03, 1.39703828e-04,\n",
       "       2.36864772e-03, 2.29375335e-04, 8.40866092e-04, 1.46305779e-03,\n",
       "       5.31632111e-04, 1.22351371e-03, 4.99937508e-04, 2.38805970e-04,\n",
       "       4.02758898e-04, 1.22036262e-03, 1.06292517e-03, 1.28617363e-03,\n",
       "       1.14410526e-03, 2.77392510e-03, 8.33941416e-04, 6.60159381e-04,\n",
       "       1.12218332e-03, 7.70884895e-04, 9.06823849e-04, 9.34361131e-04,\n",
       "       1.49855908e-03, 1.65750019e-03, 2.36695728e-03, 2.02096754e-03,\n",
       "       1.56636439e-03, 1.73317211e-03, 2.95654287e-03, 1.61796431e-03,\n",
       "       2.77116048e-03, 1.91357750e-03, 4.87027765e-03])"
      ]
     },
     "execution_count": 40,
     "metadata": {},
     "output_type": "execute_result"
    }
   ],
   "source": [
    "word_timeseries_normalized = np.array(word_timeseries, dtype=np.float) / np.array(volume, dtype=np.float)\n",
    "word_timeseries_normalized"
   ]
  },
  {
   "cell_type": "code",
   "execution_count": 41,
   "metadata": {},
   "outputs": [
    {
     "data": {
      "image/png": "[encoded data removed]",
      "text/plain": [
       "<Figure size 432x288 with 1 Axes>"
      ]
     },
     "metadata": {
      "needs_background": "light"
     },
     "output_type": "display_data"
    }
   ],
   "source": [
    "plt.plot(years, word_timeseries_normalized)\n",
    "plt.show()"
   ]
  },
  {
   "cell_type": "markdown",
   "metadata": {},
   "source": [
    "As we can see above, `love` peaked in the late 1970s and is on the decline since then. Sad."
   ]
  },
  {
   "cell_type": "code",
   "execution_count": null,
   "metadata": {},
   "outputs": [],
   "source": []
  }
 ],
 "metadata": {
  "kernelspec": {
   "display_name": "Python 2",
   "language": "python",
   "name": "python2"
  },
  "language_info": {
   "codemirror_mode": {
    "name": "ipython",
    "version": 2
   },
   "file_extension": ".py",
   "mimetype": "text/x-python",
   "name": "python",
   "nbconvert_exporter": "python",
   "pygments_lexer": "ipython2",
   "version": "2.7.15"
  }
 },
 "nbformat": 4,
 "nbformat_minor": 2
}
