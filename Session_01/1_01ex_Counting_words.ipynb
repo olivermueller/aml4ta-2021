{
  "nbformat": 4,
  "nbformat_minor": 0,
  "metadata": {
    "kernelspec": {
      "display_name": "Python 3",
      "language": "python",
      "name": "python3"
    },
    "language_info": {
      "codemirror_mode": {
        "name": "ipython",
        "version": 3
      },
      "file_extension": ".py",
      "mimetype": "text/x-python",
      "name": "python",
      "nbconvert_exporter": "python",
      "pygments_lexer": "ipython3",
      "version": "3.6.0"
    },
    "colab": {
      "name": "1.01ex - Counting words.ipynb",
      "provenance": [],
      "collapsed_sections": [],
      "toc_visible": true,
      "include_colab_link": true
    }
  },
  "cells": [
    {
      "cell_type": "markdown",
      "metadata": {
        "id": "view-in-github",
        "colab_type": "text"
      },
      "source": [
        "<a href=\"https://colab.research.google.com/github/olivermueller/amlta2021/blob/main/Session_01/1_01ex_Counting_words.ipynb\" target=\"_parent\"><img src=\"https://colab.research.google.com/assets/colab-badge.svg\" alt=\"Open In Colab\"/></a>"
      ]
    },
    {
      "cell_type": "markdown",
      "metadata": {
        "id": "g76kVFaPRKiV"
      },
      "source": [
        "# <font color=\"#003660\">Applied Machine Learning for Text Analysis (M.184.5331)</font>"
      ]
    },
    {
      "cell_type": "code",
      "metadata": {
        "id": "9jvgwYiVA9s4",
        "colab": {
          "base_uri": "https://localhost:8080/"
        },
        "outputId": "177eaf51-1057-409c-a1d4-0a3a2f9ab4a2"
      },
      "source": [
        "# Set up Google Drive\n",
        "\n",
        "from google.colab import drive\n",
        "\n",
        "drive.mount('/content/gdrive')\n",
        "\n",
        "%cd /content/gdrive/MyDrive/Colab Notebooks/AMLTA2021/Session_01\n",
        "\n",
        "!pip install pymysql"
      ],
      "execution_count": null,
      "outputs": [
        {
          "output_type": "stream",
          "name": "stdout",
          "text": [
            "Drive already mounted at /content/gdrive; to attempt to forcibly remount, call drive.mount(\"/content/gdrive\", force_remount=True).\n",
            "/content/gdrive/MyDrive/Colab Notebooks/AMLTA2021/Session_01\n",
            "Requirement already satisfied: pymysql in /usr/local/lib/python3.7/dist-packages (1.0.2)\n"
          ]
        }
      ]
    },
    {
      "cell_type": "markdown",
      "metadata": {
        "id": "JNf1pfLmRUch"
      },
      "source": [
        "# <font color=\"#003660\">Week 1: Basics of Natural Language Processing</font>"
      ]
    },
    {
      "cell_type": "markdown",
      "metadata": {
        "id": "P80mDwREn1EN"
      },
      "source": [
        "# <font color=\"#003660\">Notebook 1: Counting Words - Exercise</font>\n",
        "\n",
        "<center><br><img width=256 src=\"https://git.uni-paderborn.de/data.analytics.teaching/aml4ta-2020/-/raw/master/resources/dag.png\"/><br></center>\n",
        "\n",
        "<p>\n",
        "<center>\n",
        "<div>\n",
        "    <font color=\"#085986\"><b>By the end of this lesson, you will be able to...</b><br><br>\n",
        "        ... bla bla bla, and<br>\n",
        "        ... bla bla bla.</font>\n",
        "</div>\n",
        "</center>\n",
        "</p>"
      ]
    },
    {
      "cell_type": "markdown",
      "metadata": {
        "id": "ZcE9JGeLn1EO"
      },
      "source": [
        "# Import packages\n",
        "\n",
        "As always, we first need to load a number of required Python packages:\n",
        "- `pandas` provides high-performance, easy-to-use data structures and data analysis tools.\n",
        "- `NLTK` is a well-known package for building Python programs to work with human language data.\n",
        "- `JSON` allows to read and write JSON files."
      ]
    },
    {
      "cell_type": "code",
      "metadata": {
        "collapsed": true,
        "id": "gxDlLxaIn1EP"
      },
      "source": [
        "import pandas as pd\n",
        "import nltk\n",
        "from nltk.stem import PorterStemmer\n",
        "from nltk.stem import WordNetLemmatizer\n",
        "from nltk.corpus import stopwords\n",
        "import json"
      ],
      "execution_count": null,
      "outputs": []
    },
    {
      "cell_type": "markdown",
      "metadata": {
        "id": "5k6bQI2lBku7"
      },
      "source": [
        "To work with the `NLTK` package, you also need to download some additional data (e.g., stopword lists)."
      ]
    },
    {
      "cell_type": "code",
      "metadata": {
        "colab": {
          "base_uri": "https://localhost:8080/"
        },
        "id": "FIx7k3tsn-JB",
        "outputId": "e1100e2f-a504-4692-98e3-ce5937f6b1c8"
      },
      "source": [
        "nltk.download('punkt')\n",
        "nltk.download('wordnet')\n",
        "nltk.download('stopwords')"
      ],
      "execution_count": null,
      "outputs": [
        {
          "output_type": "stream",
          "name": "stdout",
          "text": [
            "[nltk_data] Downloading package punkt to /root/nltk_data...\n",
            "[nltk_data]   Unzipping tokenizers/punkt.zip.\n",
            "[nltk_data] Downloading package wordnet to /root/nltk_data...\n",
            "[nltk_data]   Unzipping corpora/wordnet.zip.\n",
            "[nltk_data] Downloading package stopwords to /root/nltk_data...\n",
            "[nltk_data]   Unzipping corpora/stopwords.zip.\n"
          ]
        },
        {
          "output_type": "execute_result",
          "data": {
            "text/plain": [
              "True"
            ]
          },
          "metadata": {},
          "execution_count": 4
        }
      ]
    },
    {
      "cell_type": "markdown",
      "metadata": {
        "id": "gGyCRO_PGMxH"
      },
      "source": [
        "# Load documents\n",
        "We load the lyrics of all songs which made it to the Billboard charts between 1964 and 2015. The data is in JSON Lines format (http://jsonlines.org/), so we must iterate over each line of the file and append it to a list called `corpus`."
      ]
    },
    {
      "cell_type": "code",
      "metadata": {
        "id": "gT9LbuQ5HFS-"
      },
      "source": [
        "file_path = '/content/gdrive/MyDrive/Colab Notebooks/AMLTA2021/Session_01/billboard_lyrics_1964-2015.json'\n",
        "corpus = []\n",
        "with open(file_path) as f:\n",
        "    for line in f:\n",
        "        corpus.append(json.loads(line))"
      ],
      "execution_count": null,
      "outputs": []
    },
    {
      "cell_type": "code",
      "metadata": {
        "colab": {
          "base_uri": "https://localhost:8080/"
        },
        "id": "cEfionkoHF_z",
        "outputId": "20662a6d-838b-44e8-df86-1a054947e494"
      },
      "source": [
        "corpus[42]"
      ],
      "execution_count": null,
      "outputs": [
        {
          "output_type": "execute_result",
          "data": {
            "text/plain": [
              "{'Artist': 'gerry and the pacemakers',\n",
              " 'Lyrics': 'gerry miscellaneous ferry cross the mersey ferry cross the mersey gerry and pace makers gerry marsden life goes on day after day hearts torn in every way so ferry cross the mersey cause this lands the place i love and here ill stay people they rush everywhere each with their own secret care so ferry cross the mersey and always take me there the place i love people around every corner they seem to smile and say we dont care what your name is boy well never turn you away so ill continue to say here i always will stay so ferry cross the mersey cause this lands the place i love and here ill stay and here ill stay here ill stay',\n",
              " 'Rank': '43',\n",
              " 'Song': 'ferry cross the mersey',\n",
              " 'Source': '3',\n",
              " 'Year': '1965'}"
            ]
          },
          "metadata": {},
          "execution_count": 13
        }
      ]
    },
    {
      "cell_type": "markdown",
      "metadata": {
        "id": "gejQ-iltIBmt"
      },
      "source": [
        "In case you don't know Gerry and his friends, here is a picture:\n",
        "\n",
        "\n",
        "<img src=\"https://upload.wikimedia.org/wikipedia/commons/thumb/2/2a/Gerry_and_the_Pacemakers_group_photo_1964.JPG/270px-Gerry_and_the_Pacemakers_group_photo_1964.JPG\"/>"
      ]
    },
    {
      "cell_type": "markdown",
      "metadata": {
        "id": "vWhoP8kNIgyC"
      },
      "source": [
        "# Your turn! \n",
        "\n",
        "Preprocess all songs and investigate their word frequency distribution..."
      ]
    },
    {
      "cell_type": "code",
      "metadata": {
        "id": "k3HNq8blIuyz"
      },
      "source": [
        ""
      ],
      "execution_count": null,
      "outputs": []
    }
  ]
}