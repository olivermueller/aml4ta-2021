{
  "nbformat": 4,
  "nbformat_minor": 0,
  "metadata": {
    "kernelspec": {
      "display_name": "Python 3",
      "language": "python",
      "name": "python3"
    },
    "language_info": {
      "codemirror_mode": {
        "name": "ipython",
        "version": 3
      },
      "file_extension": ".py",
      "mimetype": "text/x-python",
      "name": "python",
      "nbconvert_exporter": "python",
      "pygments_lexer": "ipython3",
      "version": "3.6.0"
    },
    "colab": {
      "name": "1.01 - Counting words.ipynb",
      "provenance": [],
      "collapsed_sections": [],
      "toc_visible": true,
      "include_colab_link": true
    }
  },
  "cells": [
    {
      "cell_type": "markdown",
      "metadata": {
        "id": "view-in-github",
        "colab_type": "text"
      },
      "source": [
        "<a href=\"https://colab.research.google.com/github/olivermueller/amlta2021/blob/main/Session_01/1_01_Counting_words.ipynb\" target=\"_parent\"><img src=\"https://colab.research.google.com/assets/colab-badge.svg\" alt=\"Open In Colab\"/></a>"
      ]
    },
    {
      "cell_type": "markdown",
      "metadata": {
        "id": "uc-DY3aSRYzs"
      },
      "source": [
        "# <font color=\"#003660\">Applied Machine Learning for Text Analysis (M.184.5331)</font>\n",
        "\n",
        "XXX"
      ]
    },
    {
      "cell_type": "code",
      "metadata": {
        "id": "9jvgwYiVA9s4",
        "colab": {
          "base_uri": "https://localhost:8080/"
        },
        "outputId": "0ac19993-372b-46b7-851d-3228f58f9012"
      },
      "source": [
        "# Set up Google Drive\n",
        "\n",
        "from google.colab import drive\n",
        "\n",
        "drive.mount('/content/gdrive')\n",
        "\n",
        "%cd /content/gdrive/MyDrive/Colab Notebooks/AMLTA2021/Session_01\n",
        "\n",
        "!pip install pymysql"
      ],
      "execution_count": null,
      "outputs": [
        {
          "output_type": "stream",
          "name": "stdout",
          "text": [
            "Mounted at /content/gdrive\n",
            "/content/gdrive/MyDrive/Colab Notebooks/AMLTA2021/Session_01\n",
            "Requirement already satisfied: pymysql in /usr/local/lib/python3.7/dist-packages (1.0.2)\n"
          ]
        }
      ]
    },
    {
      "cell_type": "markdown",
      "metadata": {
        "id": "HRduPPJcRbIZ"
      },
      "source": [
        "# <font color=\"#003660\">Week 1: Basics of Natural Language Processing</font>"
      ]
    },
    {
      "cell_type": "markdown",
      "metadata": {
        "id": "P80mDwREn1EN"
      },
      "source": [
        "# <font color=\"#003660\">Notebook 1: Counting Words</font>\n",
        "\n",
        "<center><br><img width=256 src=\"https://git.uni-paderborn.de/data.analytics.teaching/aml4ta-2020/-/raw/master/resources/dag.png\"/><br></center>\n",
        "\n",
        "<p>\n",
        "<center>\n",
        "<div>\n",
        "    <font color=\"#085986\"><b>By the end of this lesson, you will be able to...</b><br><br>\n",
        "        ... bla bla bla, and<br>\n",
        "        ... bla bla bla.</font>\n",
        "</div>\n",
        "</center>\n",
        "</p>"
      ]
    },
    {
      "cell_type": "markdown",
      "metadata": {
        "id": "ZcE9JGeLn1EO"
      },
      "source": [
        "# Import packages\n",
        "\n",
        "As always, we first need to load a number of required Python packages:\n",
        "- `pandas` provides high-performance, easy-to-use data structures and data analysis tools.\n",
        "- `NLTK` is a well-known package for building Python programs to work with human language data."
      ]
    },
    {
      "cell_type": "code",
      "metadata": {
        "collapsed": true,
        "id": "gxDlLxaIn1EP"
      },
      "source": [
        "import pandas as pd\n",
        "import nltk\n",
        "from nltk.stem import PorterStemmer\n",
        "from nltk.stem import WordNetLemmatizer\n",
        "from nltk.corpus import stopwords"
      ],
      "execution_count": null,
      "outputs": []
    },
    {
      "cell_type": "markdown",
      "metadata": {
        "id": "5k6bQI2lBku7"
      },
      "source": [
        "To work with the `NLTK` package, you also need to download some additional data (e.g., stopword lists)."
      ]
    },
    {
      "cell_type": "code",
      "metadata": {
        "colab": {
          "base_uri": "https://localhost:8080/"
        },
        "id": "FIx7k3tsn-JB",
        "outputId": "526e1152-de91-49e0-de53-6e2d382984cd"
      },
      "source": [
        "nltk.download('punkt')\n",
        "nltk.download('wordnet')\n",
        "nltk.download('stopwords')"
      ],
      "execution_count": null,
      "outputs": [
        {
          "output_type": "stream",
          "name": "stdout",
          "text": [
            "[nltk_data] Downloading package punkt to /root/nltk_data...\n",
            "[nltk_data]   Unzipping tokenizers/punkt.zip.\n",
            "[nltk_data] Downloading package wordnet to /root/nltk_data...\n",
            "[nltk_data]   Unzipping corpora/wordnet.zip.\n",
            "[nltk_data] Downloading package stopwords to /root/nltk_data...\n",
            "[nltk_data]   Unzipping corpora/stopwords.zip.\n"
          ]
        },
        {
          "output_type": "execute_result",
          "data": {
            "text/plain": [
              "True"
            ]
          },
          "metadata": {},
          "execution_count": 3
        }
      ]
    },
    {
      "cell_type": "markdown",
      "metadata": {
        "id": "kVRbkD1rn1EP"
      },
      "source": [
        "# Load documents\n",
        "For this first example, we create 7 documents by hand, each consisting of only one sentence. The documents are stored in a list called `corpus`."
      ]
    },
    {
      "cell_type": "code",
      "metadata": {
        "collapsed": true,
        "id": "IhXCC-7-n1EQ"
      },
      "source": [
        "corpus = [\n",
        "    \"Hello World.\",\n",
        "    \"How are you today?\",\n",
        "    \"The world is nice.\",\n",
        "    \"The weather is also nice.\",\n",
        "    \"Yesterday, the weather was also nice.\",\n",
        "    \"I own two bicycles.\",\n",
        "    \"I love to ride my bicycle.\"\n",
        "]"
      ],
      "execution_count": null,
      "outputs": []
    },
    {
      "cell_type": "code",
      "metadata": {
        "colab": {
          "base_uri": "https://localhost:8080/"
        },
        "id": "fa2zBIOen1EQ",
        "outputId": "bf8317d6-3adb-45d1-f7fb-c0cadc7d1b0c"
      },
      "source": [
        "corpus"
      ],
      "execution_count": null,
      "outputs": [
        {
          "output_type": "execute_result",
          "data": {
            "text/plain": [
              "['Hello World.',\n",
              " 'How are you today?',\n",
              " 'The world is nice.',\n",
              " 'The weather is also nice.',\n",
              " 'Yesterday, the weather was also nice.',\n",
              " 'I own two bicycles.',\n",
              " 'I love to ride my bicycle.']"
            ]
          },
          "metadata": {},
          "execution_count": 5
        }
      ]
    },
    {
      "cell_type": "code",
      "metadata": {
        "colab": {
          "base_uri": "https://localhost:8080/",
          "height": 35
        },
        "id": "v--VH7vCn1ER",
        "outputId": "cda25358-739f-47ac-c029-1e6badbd6669"
      },
      "source": [
        "corpus[5]"
      ],
      "execution_count": null,
      "outputs": [
        {
          "output_type": "execute_result",
          "data": {
            "application/vnd.google.colaboratory.intrinsic+json": {
              "type": "string"
            },
            "text/plain": [
              "'I own two bicycles.'"
            ]
          },
          "metadata": {},
          "execution_count": 6
        }
      ]
    },
    {
      "cell_type": "markdown",
      "metadata": {
        "id": "6b-O5zTWn1ER"
      },
      "source": [
        "# Preprocess documents\n",
        "As many natural language processing techniques process sequences of words, we have to tokenize the documents, that is, break them up into sequences of words. To do this, we iterate through each document in the corpus and transform them into lists of tokens. The result is a list of lists."
      ]
    },
    {
      "cell_type": "code",
      "metadata": {
        "id": "sM-ZIMbgn1ER"
      },
      "source": [
        "docs_tokenized = []\n",
        "for doc in corpus:\n",
        "    tokens = doc.split(\" \") # Split by whitespace\n",
        "    #tokens = nltk.word_tokenize(doc) # Use a smarter tokenizer from the NLTK package\n",
        "    docs_tokenized.append(tokens)"
      ],
      "execution_count": null,
      "outputs": []
    },
    {
      "cell_type": "code",
      "metadata": {
        "colab": {
          "base_uri": "https://localhost:8080/"
        },
        "id": "_-Lhhfbhn1ES",
        "outputId": "83ff5efa-06c9-44b4-aa40-052769b9030e"
      },
      "source": [
        "docs_tokenized"
      ],
      "execution_count": null,
      "outputs": [
        {
          "output_type": "execute_result",
          "data": {
            "text/plain": [
              "[['Hello', 'World.'],\n",
              " ['How', 'are', 'you', 'today?'],\n",
              " ['The', 'world', 'is', 'nice.'],\n",
              " ['The', 'weather', 'is', 'also', 'nice.'],\n",
              " ['Yesterday,', 'the', 'weather', 'was', 'also', 'nice.'],\n",
              " ['I', 'own', 'two', 'bicycles.'],\n",
              " ['I', 'love', 'to', 'ride', 'my', 'bicycle.']]"
            ]
          },
          "metadata": {},
          "execution_count": 34
        }
      ]
    },
    {
      "cell_type": "markdown",
      "metadata": {
        "id": "ojCfBrNin1ET"
      },
      "source": [
        "# Counting words\n",
        "We are now ready to analyze the documents. We use NLTK's `FreqDist` method (http://www.nltk.org/api/nltk.html?highlight=freqdist#nltk.probability.FreqDist) to create a word frequency distribution from the preprocessed documents. The method expects a single list of words as the input parameter. Hence, we have to first flatten our list of lists (https://stackoverflow.com/questions/952914/making-a-flat-list-out-of-list-of-lists-in-python)."
      ]
    },
    {
      "cell_type": "code",
      "metadata": {
        "id": "AgtnvsZOn1ET"
      },
      "source": [
        "flat_docs_tokenized_1 = [item for sublist in docs_tokenized for item in sublist]\n",
        "freq_dist_1 = nltk.FreqDist(flat_docs_tokenized_1)"
      ],
      "execution_count": null,
      "outputs": []
    },
    {
      "cell_type": "markdown",
      "metadata": {
        "id": "NWI-rbNWn1ET"
      },
      "source": [
        "Print the results."
      ]
    },
    {
      "cell_type": "code",
      "metadata": {
        "colab": {
          "base_uri": "https://localhost:8080/"
        },
        "id": "k5wgy3s_n1ET",
        "outputId": "38651923-c178-42ed-a744-9b1eea6476c7"
      },
      "source": [
        "freq_dist_1"
      ],
      "execution_count": null,
      "outputs": [
        {
          "output_type": "execute_result",
          "data": {
            "text/plain": [
              "FreqDist({'Hello': 1,\n",
              "          'How': 1,\n",
              "          'I': 2,\n",
              "          'The': 2,\n",
              "          'World.': 1,\n",
              "          'Yesterday,': 1,\n",
              "          'also': 2,\n",
              "          'are': 1,\n",
              "          'bicycle.': 1,\n",
              "          'bicycles.': 1,\n",
              "          'is': 2,\n",
              "          'love': 1,\n",
              "          'my': 1,\n",
              "          'nice.': 3,\n",
              "          'own': 1,\n",
              "          'ride': 1,\n",
              "          'the': 1,\n",
              "          'to': 1,\n",
              "          'today?': 1,\n",
              "          'two': 1,\n",
              "          'was': 1,\n",
              "          'weather': 2,\n",
              "          'world': 1,\n",
              "          'you': 1})"
            ]
          },
          "metadata": {},
          "execution_count": 14
        }
      ]
    },
    {
      "cell_type": "markdown",
      "metadata": {
        "id": "jsOMoBGln1EU"
      },
      "source": [
        "When plotting the results, we observe some unwanted results. For example, the tokens `The` and `the` are counted as separate words."
      ]
    },
    {
      "cell_type": "code",
      "metadata": {
        "colab": {
          "base_uri": "https://localhost:8080/",
          "height": 321
        },
        "id": "D91B4kznn1EU",
        "outputId": "1e306cd8-c1ec-4195-e00c-756da6543419"
      },
      "source": [
        "freq_dist_1.plot(30, cumulative=False)"
      ],
      "execution_count": null,
      "outputs": [
        {
          "output_type": "display_data",
          "data": {
            "image/png": "[encoded data removed]",
            "text/plain": [
              "<Figure size 432x288 with 1 Axes>"
            ]
          },
          "metadata": {
            "needs_background": "light"
          }
        }
      ]
    },
    {
      "cell_type": "markdown",
      "metadata": {
        "id": "HuMGsgUXn1EU"
      },
      "source": [
        "# More preprocessing\n",
        "To address the above problem, we go back to preprocessing and transform all tokens to lowercase."
      ]
    },
    {
      "cell_type": "code",
      "metadata": {
        "collapsed": true,
        "id": "wC-uw7tVn1EU"
      },
      "source": [
        "docs_tokenized_lower = []\n",
        "for doc in docs_tokenized:\n",
        "    tokens = []\n",
        "    for token in doc:\n",
        "        tokens.append(token.lower())\n",
        "    docs_tokenized_lower.append(tokens)"
      ],
      "execution_count": null,
      "outputs": []
    },
    {
      "cell_type": "code",
      "metadata": {
        "colab": {
          "base_uri": "https://localhost:8080/"
        },
        "id": "jXTk7xbZn1EV",
        "outputId": "9d60a8fc-889b-4bc5-954e-981a98359eaa"
      },
      "source": [
        "docs_tokenized_lower"
      ],
      "execution_count": null,
      "outputs": [
        {
          "output_type": "execute_result",
          "data": {
            "text/plain": [
              "[['hello', 'world.'],\n",
              " ['how', 'are', 'you', 'today?'],\n",
              " ['the', 'world', 'is', 'nice.'],\n",
              " ['the', 'weather', 'is', 'also', 'nice.'],\n",
              " ['yesterday,', 'the', 'weather', 'was', 'also', 'nice.'],\n",
              " ['i', 'own', 'two', 'bicycles.'],\n",
              " ['i', 'love', 'to', 'ride', 'my', 'bicycle.']]"
            ]
          },
          "metadata": {},
          "execution_count": 19
        }
      ]
    },
    {
      "cell_type": "markdown",
      "metadata": {
        "id": "Ppb_TIgvn1EW"
      },
      "source": [
        "# Recounting words\n",
        "And we create and plot the frequency distribution again."
      ]
    },
    {
      "cell_type": "code",
      "metadata": {
        "colab": {
          "base_uri": "https://localhost:8080/",
          "height": 322
        },
        "id": "s7_Eothvn1EW",
        "outputId": "c469bce8-87d7-4eb6-fdf2-b295075aa2e3"
      },
      "source": [
        "flat_docs_tokenized_2 = [item for sublist in docs_tokenized_lower for item in sublist]\n",
        "freq_dist_2 = nltk.FreqDist(flat_docs_tokenized_2)\n",
        "freq_dist_2.plot(30, cumulative=False)"
      ],
      "execution_count": null,
      "outputs": [
        {
          "output_type": "display_data",
          "data": {
            "image/png": "[encoded data removed]",
            "text/plain": [
              "<Figure size 432x288 with 1 Axes>"
            ]
          },
          "metadata": {
            "needs_background": "light"
          }
        }
      ]
    },
    {
      "cell_type": "markdown",
      "metadata": {
        "id": "PjstVCzCn1EW"
      },
      "source": [
        "Now, `the` is only counted once (3 occurences). But there are still problems. For example, `bicycle` and `bicycles`."
      ]
    },
    {
      "cell_type": "markdown",
      "metadata": {
        "id": "NQMoSNoKn1EW"
      },
      "source": [
        "# More preprocessing\n",
        "We can fix this issue with \n",
        "- stemming (https://en.wikipedia.org/wiki/Stemming) or"
      ]
    },
    {
      "cell_type": "code",
      "metadata": {
        "colab": {
          "base_uri": "https://localhost:8080/"
        },
        "id": "36R_GwjRn1EX",
        "outputId": "c8ab32ca-8de9-4589-84b2-2b5a6a7e8aa7"
      },
      "source": [
        "stemmer = PorterStemmer()\n",
        "print(stemmer.stem('bicycles'))"
      ],
      "execution_count": null,
      "outputs": [
        {
          "output_type": "stream",
          "name": "stdout",
          "text": [
            "bicycl\n"
          ]
        }
      ]
    },
    {
      "cell_type": "markdown",
      "metadata": {
        "id": "gSIHXUhkn1EX"
      },
      "source": [
        "- lemmatization (https://en.wikipedia.org/wiki/Lemmatisation).\n",
        "\n",
        "`NLTK`'s WordNetLemmatizer reduces tokens to their dictionary form. We have to tell the lemmatization method which part of speech (https://en.wikipedia.org/wiki/Part_of_speech) the word to be lemmatized is."
      ]
    },
    {
      "cell_type": "code",
      "metadata": {
        "colab": {
          "base_uri": "https://localhost:8080/"
        },
        "id": "jzWYg-jun1EX",
        "outputId": "b6ee6a56-4980-4d89-ec4b-49c6e3c8a150"
      },
      "source": [
        "lemmatizer = WordNetLemmatizer()\n",
        "print(lemmatizer.lemmatize('bicycles','n')) # n = noun, v = verb, ..."
      ],
      "execution_count": null,
      "outputs": [
        {
          "output_type": "stream",
          "name": "stdout",
          "text": [
            "bicycle\n"
          ]
        }
      ]
    },
    {
      "cell_type": "markdown",
      "metadata": {
        "id": "u278onMQn1EX"
      },
      "source": [
        "To lemmatize all tokens in all documents, we again iterate through our list of documents and call the lemmatize method on each word. Unfortunately, the results are somewhat surprising, as we don't know which part of speech the tokens are (see, e.g., `was` -> `wa`). For now, we ignore these mistakes. We will learn how to consider part of speech later."
      ]
    },
    {
      "cell_type": "code",
      "metadata": {
        "collapsed": true,
        "id": "yx5EYi0Wn1EX"
      },
      "source": [
        "docs_tokenized_lower_lemmatized = []\n",
        "for doc in docs_tokenized_lower:\n",
        "    tokens = []\n",
        "    for token in doc:\n",
        "        tokens.append(str(lemmatizer.lemmatize(token, 'n')))\n",
        "    docs_tokenized_lower_lemmatized.append(tokens)"
      ],
      "execution_count": null,
      "outputs": []
    },
    {
      "cell_type": "code",
      "metadata": {
        "colab": {
          "base_uri": "https://localhost:8080/"
        },
        "id": "KigZtpMxn1EY",
        "outputId": "e2de8db1-3a84-472a-f926-faa576fbaaf7"
      },
      "source": [
        "docs_tokenized_lower_lemmatized"
      ],
      "execution_count": null,
      "outputs": [
        {
          "output_type": "execute_result",
          "data": {
            "text/plain": [
              "[['hello', 'world.'],\n",
              " ['how', 'are', 'you', 'today?'],\n",
              " ['the', 'world', 'is', 'nice.'],\n",
              " ['the', 'weather', 'is', 'also', 'nice.'],\n",
              " ['yesterday,', 'the', 'weather', 'wa', 'also', 'nice.'],\n",
              " ['i', 'own', 'two', 'bicycles.'],\n",
              " ['i', 'love', 'to', 'ride', 'my', 'bicycle.']]"
            ]
          },
          "metadata": {},
          "execution_count": 24
        }
      ]
    },
    {
      "cell_type": "markdown",
      "metadata": {
        "id": "YHSLpYdmn1EZ"
      },
      "source": [
        "# Recounting words, again"
      ]
    },
    {
      "cell_type": "code",
      "metadata": {
        "colab": {
          "base_uri": "https://localhost:8080/",
          "height": 322
        },
        "id": "M05XYuOPn1EZ",
        "outputId": "1da17def-2ca0-4861-d0f7-9b189b9f5d62"
      },
      "source": [
        "flat_docs_tokenized_3 = [item for sublist in docs_tokenized_lower_lemmatized for item in sublist]\n",
        "freq_dist_3 = nltk.FreqDist(flat_docs_tokenized_3)\n",
        "freq_dist_3.plot(30, cumulative=False)"
      ],
      "execution_count": null,
      "outputs": [
        {
          "output_type": "display_data",
          "data": {
            "image/png": "[encoded data removed]",
            "text/plain": [
              "<Figure size 432x288 with 1 Axes>"
            ]
          },
          "metadata": {
            "needs_background": "light"
          }
        }
      ]
    },
    {
      "cell_type": "markdown",
      "metadata": {
        "id": "jPbxa3gon1EZ"
      },
      "source": [
        "Now, `bicycle` appears only once in the results. But we see some words which are not very informative for our analysis, e.g., `the`, `is`, or `.`."
      ]
    },
    {
      "cell_type": "markdown",
      "metadata": {
        "id": "F9_xSM4hn1EZ"
      },
      "source": [
        "# Again, back to preprocessing\n",
        "One typically removes these so-called stopwords before mining the texts. `NLTK` provides a list of standard English stopwords."
      ]
    },
    {
      "cell_type": "code",
      "metadata": {
        "colab": {
          "base_uri": "https://localhost:8080/"
        },
        "id": "ozIslTwun1EZ",
        "outputId": "4d223d69-751a-416c-a01a-4e6f01d1c580"
      },
      "source": [
        "stopwords.words('english')"
      ],
      "execution_count": null,
      "outputs": [
        {
          "output_type": "execute_result",
          "data": {
            "text/plain": [
              "['i',\n",
              " 'me',\n",
              " 'my',\n",
              " 'myself',\n",
              " 'we',\n",
              " 'our',\n",
              " 'ours',\n",
              " 'ourselves',\n",
              " 'you',\n",
              " \"you're\",\n",
              " \"you've\",\n",
              " \"you'll\",\n",
              " \"you'd\",\n",
              " 'your',\n",
              " 'yours',\n",
              " 'yourself',\n",
              " 'yourselves',\n",
              " 'he',\n",
              " 'him',\n",
              " 'his',\n",
              " 'himself',\n",
              " 'she',\n",
              " \"she's\",\n",
              " 'her',\n",
              " 'hers',\n",
              " 'herself',\n",
              " 'it',\n",
              " \"it's\",\n",
              " 'its',\n",
              " 'itself',\n",
              " 'they',\n",
              " 'them',\n",
              " 'their',\n",
              " 'theirs',\n",
              " 'themselves',\n",
              " 'what',\n",
              " 'which',\n",
              " 'who',\n",
              " 'whom',\n",
              " 'this',\n",
              " 'that',\n",
              " \"that'll\",\n",
              " 'these',\n",
              " 'those',\n",
              " 'am',\n",
              " 'is',\n",
              " 'are',\n",
              " 'was',\n",
              " 'were',\n",
              " 'be',\n",
              " 'been',\n",
              " 'being',\n",
              " 'have',\n",
              " 'has',\n",
              " 'had',\n",
              " 'having',\n",
              " 'do',\n",
              " 'does',\n",
              " 'did',\n",
              " 'doing',\n",
              " 'a',\n",
              " 'an',\n",
              " 'the',\n",
              " 'and',\n",
              " 'but',\n",
              " 'if',\n",
              " 'or',\n",
              " 'because',\n",
              " 'as',\n",
              " 'until',\n",
              " 'while',\n",
              " 'of',\n",
              " 'at',\n",
              " 'by',\n",
              " 'for',\n",
              " 'with',\n",
              " 'about',\n",
              " 'against',\n",
              " 'between',\n",
              " 'into',\n",
              " 'through',\n",
              " 'during',\n",
              " 'before',\n",
              " 'after',\n",
              " 'above',\n",
              " 'below',\n",
              " 'to',\n",
              " 'from',\n",
              " 'up',\n",
              " 'down',\n",
              " 'in',\n",
              " 'out',\n",
              " 'on',\n",
              " 'off',\n",
              " 'over',\n",
              " 'under',\n",
              " 'again',\n",
              " 'further',\n",
              " 'then',\n",
              " 'once',\n",
              " 'here',\n",
              " 'there',\n",
              " 'when',\n",
              " 'where',\n",
              " 'why',\n",
              " 'how',\n",
              " 'all',\n",
              " 'any',\n",
              " 'both',\n",
              " 'each',\n",
              " 'few',\n",
              " 'more',\n",
              " 'most',\n",
              " 'other',\n",
              " 'some',\n",
              " 'such',\n",
              " 'no',\n",
              " 'nor',\n",
              " 'not',\n",
              " 'only',\n",
              " 'own',\n",
              " 'same',\n",
              " 'so',\n",
              " 'than',\n",
              " 'too',\n",
              " 'very',\n",
              " 's',\n",
              " 't',\n",
              " 'can',\n",
              " 'will',\n",
              " 'just',\n",
              " 'don',\n",
              " \"don't\",\n",
              " 'should',\n",
              " \"should've\",\n",
              " 'now',\n",
              " 'd',\n",
              " 'll',\n",
              " 'm',\n",
              " 'o',\n",
              " 're',\n",
              " 've',\n",
              " 'y',\n",
              " 'ain',\n",
              " 'aren',\n",
              " \"aren't\",\n",
              " 'couldn',\n",
              " \"couldn't\",\n",
              " 'didn',\n",
              " \"didn't\",\n",
              " 'doesn',\n",
              " \"doesn't\",\n",
              " 'hadn',\n",
              " \"hadn't\",\n",
              " 'hasn',\n",
              " \"hasn't\",\n",
              " 'haven',\n",
              " \"haven't\",\n",
              " 'isn',\n",
              " \"isn't\",\n",
              " 'ma',\n",
              " 'mightn',\n",
              " \"mightn't\",\n",
              " 'mustn',\n",
              " \"mustn't\",\n",
              " 'needn',\n",
              " \"needn't\",\n",
              " 'shan',\n",
              " \"shan't\",\n",
              " 'shouldn',\n",
              " \"shouldn't\",\n",
              " 'wasn',\n",
              " \"wasn't\",\n",
              " 'weren',\n",
              " \"weren't\",\n",
              " 'won',\n",
              " \"won't\",\n",
              " 'wouldn',\n",
              " \"wouldn't\"]"
            ]
          },
          "metadata": {},
          "execution_count": 26
        }
      ]
    },
    {
      "cell_type": "markdown",
      "metadata": {
        "id": "HtX3rTK8n1EZ"
      },
      "source": [
        "Again, we iterate through our list of documents and only extract tokens that are not stopwords and alphanumeric (no punctuation or special characters)."
      ]
    },
    {
      "cell_type": "code",
      "metadata": {
        "collapsed": true,
        "id": "NqweAmeEn1EZ"
      },
      "source": [
        "docs_tokenized_lower_lemmatized_reduced = []\n",
        "for doc in docs_tokenized_lower_lemmatized:\n",
        "    tokens = []\n",
        "    for token in doc:\n",
        "        if token.isalpha() and token not in stopwords.words('english'):\n",
        "            tokens.append(token)\n",
        "    docs_tokenized_lower_lemmatized_reduced.append(tokens)"
      ],
      "execution_count": null,
      "outputs": []
    },
    {
      "cell_type": "code",
      "metadata": {
        "colab": {
          "base_uri": "https://localhost:8080/"
        },
        "id": "DvQAL0m7n1Ea",
        "outputId": "d46ef526-4c41-4779-ba40-ebe8036a5689"
      },
      "source": [
        "docs_tokenized_lower_lemmatized_reduced"
      ],
      "execution_count": null,
      "outputs": [
        {
          "output_type": "execute_result",
          "data": {
            "text/plain": [
              "[['hello'],\n",
              " [],\n",
              " ['world'],\n",
              " ['weather', 'also'],\n",
              " ['weather', 'wa', 'also'],\n",
              " ['two'],\n",
              " ['love', 'ride']]"
            ]
          },
          "metadata": {},
          "execution_count": 28
        }
      ]
    },
    {
      "cell_type": "markdown",
      "metadata": {
        "id": "GtDR_1Inn1Ea"
      },
      "source": [
        "# Plot the final results"
      ]
    },
    {
      "cell_type": "code",
      "metadata": {
        "colab": {
          "base_uri": "https://localhost:8080/",
          "height": 310
        },
        "id": "Qw9_cxVtn1Ea",
        "outputId": "62ad946c-212d-4c28-ad0f-69efee860207"
      },
      "source": [
        "flat_docs_tokenized_4 = [item for sublist in docs_tokenized_lower_lemmatized_reduced for item in sublist]\n",
        "freq_dist_4 = nltk.FreqDist(flat_docs_tokenized_4)\n",
        "freq_dist_4.plot(30, cumulative=False)"
      ],
      "execution_count": null,
      "outputs": [
        {
          "output_type": "display_data",
          "data": {
            "image/png": "[encoded data removed]",
            "text/plain": [
              "<Figure size 432x288 with 1 Axes>"
            ]
          },
          "metadata": {
            "needs_background": "light"
          }
        }
      ]
    },
    {
      "cell_type": "markdown",
      "metadata": {
        "id": "gGyCRO_PGMxH"
      },
      "source": [
        "Now we are happy!"
      ]
    }
  ]
}